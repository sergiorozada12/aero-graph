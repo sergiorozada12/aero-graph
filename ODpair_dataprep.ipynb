{
 "cells": [
  {
   "cell_type": "code",
   "execution_count": 1,
   "metadata": {},
   "outputs": [],
   "source": [
    "import pandas as pd\n",
    "import os\n",
    "import numpy as np\n",
    "import matplotlib.pyplot as plt\n",
    "\n",
    "from sklearn.cluster import KMeans\n",
    "\n",
    "import zipfile"
   ]
  },
  {
   "cell_type": "markdown",
   "metadata": {},
   "source": [
    "# 1) Loading the data"
   ]
  },
  {
   "cell_type": "code",
   "execution_count": 2,
   "metadata": {},
   "outputs": [],
   "source": [
    "DATA_PATH = '/home/victor/Aero_TFG/Data'\n",
    "    \n",
    "OUT_PATH = '/home/victor/Aero_TFG/analysedData/'"
   ]
  },
  {
   "cell_type": "code",
   "execution_count": 3,
   "metadata": {},
   "outputs": [
    {
     "ename": "ValueError",
     "evalue": "No objects to concatenate",
     "output_type": "error",
     "traceback": [
      "\u001b[1;31m---------------------------------------------------------------------------\u001b[0m",
      "\u001b[1;31mValueError\u001b[0m                                Traceback (most recent call last)",
      "\u001b[1;32m<ipython-input-3-d6d9fc2fd258>\u001b[0m in \u001b[0;36m<module>\u001b[1;34m\u001b[0m\n\u001b[0;32m      7\u001b[0m         \u001b[1;31m# log.write(\"{}: {} flights read\\n\".format(d, str(len(df_aux.index))))\u001b[0m\u001b[1;33m\u001b[0m\u001b[1;33m\u001b[0m\u001b[1;33m\u001b[0m\u001b[0m\n\u001b[0;32m      8\u001b[0m         \u001b[0mdfs\u001b[0m\u001b[1;33m.\u001b[0m\u001b[0mappend\u001b[0m\u001b[1;33m(\u001b[0m\u001b[0mdf_aux\u001b[0m\u001b[1;33m)\u001b[0m\u001b[1;33m\u001b[0m\u001b[1;33m\u001b[0m\u001b[0m\n\u001b[1;32m----> 9\u001b[1;33m \u001b[0mdf\u001b[0m \u001b[1;33m=\u001b[0m \u001b[0mpd\u001b[0m\u001b[1;33m.\u001b[0m\u001b[0mconcat\u001b[0m\u001b[1;33m(\u001b[0m\u001b[0mdfs\u001b[0m\u001b[1;33m)\u001b[0m\u001b[1;33m\u001b[0m\u001b[1;33m\u001b[0m\u001b[0m\n\u001b[0m\u001b[0;32m     10\u001b[0m \u001b[0mdfs\u001b[0m\u001b[1;33m.\u001b[0m\u001b[0mclear\u001b[0m\u001b[1;33m(\u001b[0m\u001b[1;33m)\u001b[0m\u001b[1;33m\u001b[0m\u001b[1;33m\u001b[0m\u001b[0m\n\u001b[0;32m     11\u001b[0m \u001b[0mprint\u001b[0m\u001b[1;33m(\u001b[0m\u001b[1;34m'DONE - Entries read: '\u001b[0m \u001b[1;33m+\u001b[0m \u001b[0mstr\u001b[0m\u001b[1;33m(\u001b[0m\u001b[0mlen\u001b[0m\u001b[1;33m(\u001b[0m\u001b[0mdf\u001b[0m\u001b[1;33m.\u001b[0m\u001b[0mindex\u001b[0m\u001b[1;33m)\u001b[0m\u001b[1;33m)\u001b[0m\u001b[1;33m,\u001b[0m \u001b[0mflush\u001b[0m\u001b[1;33m=\u001b[0m\u001b[1;32mTrue\u001b[0m\u001b[1;33m)\u001b[0m\u001b[1;33m\u001b[0m\u001b[1;33m\u001b[0m\u001b[0m\n",
      "\u001b[1;32mc:\\users\\victor\\appdata\\local\\programs\\python\\python38\\lib\\site-packages\\pandas\\core\\reshape\\concat.py\u001b[0m in \u001b[0;36mconcat\u001b[1;34m(objs, axis, join, ignore_index, keys, levels, names, verify_integrity, sort, copy)\u001b[0m\n\u001b[0;32m    269\u001b[0m     \u001b[0mValueError\u001b[0m\u001b[1;33m:\u001b[0m \u001b[0mIndexes\u001b[0m \u001b[0mhave\u001b[0m \u001b[0moverlapping\u001b[0m \u001b[0mvalues\u001b[0m\u001b[1;33m:\u001b[0m \u001b[1;33m[\u001b[0m\u001b[1;34m'a'\u001b[0m\u001b[1;33m]\u001b[0m\u001b[1;33m\u001b[0m\u001b[1;33m\u001b[0m\u001b[0m\n\u001b[0;32m    270\u001b[0m     \"\"\"\n\u001b[1;32m--> 271\u001b[1;33m     op = _Concatenator(\n\u001b[0m\u001b[0;32m    272\u001b[0m         \u001b[0mobjs\u001b[0m\u001b[1;33m,\u001b[0m\u001b[1;33m\u001b[0m\u001b[1;33m\u001b[0m\u001b[0m\n\u001b[0;32m    273\u001b[0m         \u001b[0maxis\u001b[0m\u001b[1;33m=\u001b[0m\u001b[0maxis\u001b[0m\u001b[1;33m,\u001b[0m\u001b[1;33m\u001b[0m\u001b[1;33m\u001b[0m\u001b[0m\n",
      "\u001b[1;32mc:\\users\\victor\\appdata\\local\\programs\\python\\python38\\lib\\site-packages\\pandas\\core\\reshape\\concat.py\u001b[0m in \u001b[0;36m__init__\u001b[1;34m(self, objs, axis, join, keys, levels, names, ignore_index, verify_integrity, copy, sort)\u001b[0m\n\u001b[0;32m    327\u001b[0m \u001b[1;33m\u001b[0m\u001b[0m\n\u001b[0;32m    328\u001b[0m         \u001b[1;32mif\u001b[0m \u001b[0mlen\u001b[0m\u001b[1;33m(\u001b[0m\u001b[0mobjs\u001b[0m\u001b[1;33m)\u001b[0m \u001b[1;33m==\u001b[0m \u001b[1;36m0\u001b[0m\u001b[1;33m:\u001b[0m\u001b[1;33m\u001b[0m\u001b[1;33m\u001b[0m\u001b[0m\n\u001b[1;32m--> 329\u001b[1;33m             \u001b[1;32mraise\u001b[0m \u001b[0mValueError\u001b[0m\u001b[1;33m(\u001b[0m\u001b[1;34m\"No objects to concatenate\"\u001b[0m\u001b[1;33m)\u001b[0m\u001b[1;33m\u001b[0m\u001b[1;33m\u001b[0m\u001b[0m\n\u001b[0m\u001b[0;32m    330\u001b[0m \u001b[1;33m\u001b[0m\u001b[0m\n\u001b[0;32m    331\u001b[0m         \u001b[1;32mif\u001b[0m \u001b[0mkeys\u001b[0m \u001b[1;32mis\u001b[0m \u001b[1;32mNone\u001b[0m\u001b[1;33m:\u001b[0m\u001b[1;33m\u001b[0m\u001b[1;33m\u001b[0m\u001b[0m\n",
      "\u001b[1;31mValueError\u001b[0m: No objects to concatenate"
     ]
    }
   ],
   "source": [
    "dfs = []\n",
    "for dirname, dirs, files in os.walk(DATA_PATH):\n",
    "    for d in dirs:\n",
    "        filename = os.listdir(os.path.join(dirname, d))[0]\n",
    "        full_path = os.path.join(dirname, d, filename)\n",
    "        df_aux = pd.read_csv(full_path)\n",
    "        # log.write(\"{}: {} flights read\\n\".format(d, str(len(df_aux.index))))\n",
    "        dfs.append(df_aux)\n",
    "df = pd.concat(dfs)\n",
    "dfs.clear()\n",
    "print('DONE - Entries read: ' + str(len(df.index)), flush=True)\n",
    "df = df[['ARR_DELAY', 'ARR_TIME', 'CRS_ARR_TIME', 'CRS_DEP_TIME', 'DAY_OF_MONTH', 'DAY_OF_WEEK', 'DEP_DELAY', 'DEP_TIME', 'DEST', 'FL_DATE', 'MONTH', 'ORIGIN', 'QUARTER', 'YEAR']]"
   ]
  },
  {
   "cell_type": "code",
   "execution_count": null,
   "metadata": {},
   "outputs": [],
   "source": [
    "df.shape"
   ]
  },
  {
   "cell_type": "code",
   "execution_count": null,
   "metadata": {},
   "outputs": [],
   "source": [
    "df.head(5)"
   ]
  },
  {
   "cell_type": "code",
   "execution_count": null,
   "metadata": {},
   "outputs": [],
   "source": [
    "df.isnull().sum()\n",
    "# Cancelled flights"
   ]
  },
  {
   "cell_type": "code",
   "execution_count": null,
   "metadata": {},
   "outputs": [],
   "source": [
    "df = df.dropna()\n",
    "df.shape"
   ]
  },
  {
   "cell_type": "code",
   "execution_count": null,
   "metadata": {},
   "outputs": [],
   "source": [
    "df.memory_usage().sum()/(1024*1024)"
   ]
  },
  {
   "cell_type": "code",
   "execution_count": null,
   "metadata": {},
   "outputs": [],
   "source": [
    "for c in df.columns:\n",
    "    if 'float' in str(df[c].dtype):\n",
    "        df[c] = pd.to_numeric(df[c], downcast='float')\n",
    "    elif 'int' in str(df[c].dtype):\n",
    "        df[c] = pd.to_numeric(df[c], downcast='integer')"
   ]
  },
  {
   "cell_type": "code",
   "execution_count": null,
   "metadata": {},
   "outputs": [],
   "source": [
    "df.memory_usage().sum()/(1024*1024)"
   ]
  },
  {
   "cell_type": "markdown",
   "metadata": {},
   "source": [
    "# 2.2) Filtering OD pairs with less than 10 flights per day"
   ]
  },
  {
   "cell_type": "code",
   "execution_count": null,
   "metadata": {},
   "outputs": [],
   "source": [
    "df['OD_PAIR'] = df['ORIGIN'] + '_' + df['DEST']"
   ]
  },
  {
   "cell_type": "code",
   "execution_count": null,
   "metadata": {},
   "outputs": [],
   "source": [
    "gb_odpair = pd.DataFrame(df.groupby(['ORIGIN','DEST','OD_PAIR'])['ARR_DELAY'].count()).reset_index(drop=False)\n",
    "gb_odpair.columns = ['ORIGIN', 'DEST', 'OD_PAIR', 'COUNT']\n",
    "\n",
    "n_dates = df['FL_DATE'].unique().shape[0]\n",
    "gb_cons = gb_odpair.loc[gb_odpair['COUNT'] >= 10*n_dates]\n",
    "od_pairs = gb_cons['OD_PAIR'].tolist()\n",
    "\n",
    "airports = (pd.concat([gb_cons['ORIGIN'], gb_cons['DEST']])).unique().tolist()\n",
    "\n",
    "print(\"Number of days in the analysis: \", n_dates)\n",
    "print(\"Original number of airports: \", pd.concat([df['ORIGIN'], df['DEST']]).unique().shape[0])\n",
    "print(\"Number of airports after filtering: \", len(airports))\n",
    "print(\"Orignal number of OD pairs: \", df['OD_PAIR'].unique().shape[0])\n",
    "print(\"Number of OD pairs after filtering\", len(od_pairs))"
   ]
  },
  {
   "cell_type": "code",
   "execution_count": null,
   "metadata": {},
   "outputs": [],
   "source": [
    "df_filtered = df[df['OD_PAIR'].isin(od_pairs)].reset_index(drop=True)"
   ]
  },
  {
   "cell_type": "code",
   "execution_count": null,
   "metadata": {},
   "outputs": [],
   "source": [
    "df_filtered.shape"
   ]
  },
  {
   "cell_type": "code",
   "execution_count": null,
   "metadata": {},
   "outputs": [],
   "source": [
    "# Calculating 100 most delayed OD_PAIRS\n",
    "gb_odpairs_meandel = (df_filtered.groupby('OD_PAIR')['DEP_DELAY']).agg('mean').sort_values(ascending=False)\n",
    "print(gb_odpairs_meandel.head())\n",
    "most_delayed_pairs = list(gb_odpairs_meandel.index[0:100])\n",
    "most_delayed_pairs[0:5]"
   ]
  },
  {
   "cell_type": "markdown",
   "metadata": {},
   "source": [
    "# 3) Modifying data columns"
   ]
  },
  {
   "cell_type": "code",
   "execution_count": null,
   "metadata": {},
   "outputs": [],
   "source": [
    "df_filtered['CRS_ARR_HOUR'] = df_filtered['CRS_ARR_TIME'].apply(lambda x: int(x//100)).apply(lambda x: 0 if x == 24 else x)\n",
    "df_filtered['CRS_DEP_HOUR'] = df_filtered['CRS_DEP_TIME'].apply(lambda x: int(x//100)).apply(lambda x: 0 if x == 24 else x)\n",
    "\n",
    "df_filtered['ARR_HOUR'] = df_filtered['ARR_TIME'].apply(lambda x: int(x//100)).apply(lambda x: 0 if x == 24 else x)\n",
    "df_filtered['DEP_HOUR'] = df_filtered['DEP_TIME'].apply(lambda x: int(x//100)).apply(lambda x: 0 if x == 24 else x)"
   ]
  },
  {
   "cell_type": "markdown",
   "metadata": {},
   "source": [
    "# 4) Defining the graph"
   ]
  },
  {
   "cell_type": "code",
   "execution_count": null,
   "metadata": {},
   "outputs": [],
   "source": [
    "nodes = np.array(sorted(airports))\n",
    "od_pairs = np.array(sorted(od_pairs))"
   ]
  },
  {
   "cell_type": "code",
   "execution_count": null,
   "metadata": {},
   "outputs": [],
   "source": [
    "A = np.zeros([od_pairs.shape[0], od_pairs.shape[0]])\n",
    "A_w = np.zeros([od_pairs.shape[0], od_pairs.shape[0]])\n",
    "\n",
    "for i, od_i in enumerate(od_pairs):\n",
    "    for j, od_j in enumerate(od_pairs):\n",
    "        if od_i.split('_')[0] == od_j.split('_')[0] or\\\n",
    "           od_i.split('_')[0] == od_j.split('_')[1] or\\\n",
    "           od_i.split('_')[1] == od_j.split('_')[0] or\\\n",
    "           od_i.split('_')[1] == od_j.split('_')[1]:\n",
    "            \n",
    "            A[i, j] = 1"
   ]
  },
  {
   "cell_type": "code",
   "execution_count": null,
   "metadata": {},
   "outputs": [],
   "source": [
    "D = np.diag((A.T@A).diagonal())\n",
    "L = D - A"
   ]
  },
  {
   "cell_type": "markdown",
   "metadata": {},
   "source": [
    "# 5) Creating the signal"
   ]
  },
  {
   "cell_type": "markdown",
   "metadata": {},
   "source": [
    "## Median delay for OD Pairs"
   ]
  },
  {
   "cell_type": "code",
   "execution_count": null,
   "metadata": {},
   "outputs": [],
   "source": [
    "df_dep_delay = pd.DataFrame(df_filtered.groupby(['FL_DATE', 'CRS_DEP_HOUR', 'OD_PAIR'])['DEP_DELAY'].agg(list))\n",
    "df_arr_delay = pd.DataFrame(df_filtered.groupby(['FL_DATE', 'CRS_ARR_HOUR', 'OD_PAIR'])['ARR_DELAY'].agg(list))\n",
    "\n",
    "df_dep_delay = df_dep_delay.reset_index(drop=False)\n",
    "df_arr_delay = df_arr_delay.reset_index(drop=False)\n",
    "\n",
    "df_dep_delay.columns = ['FL_DATE', 'HOUR', 'OD_PAIR', 'DEP_DELAY']\n",
    "df_arr_delay.columns = ['FL_DATE', 'HOUR', 'OD_PAIR', 'ARR_DELAY']"
   ]
  },
  {
   "cell_type": "code",
   "execution_count": null,
   "metadata": {},
   "outputs": [],
   "source": [
    "df_merged = df_dep_delay.merge(df_arr_delay,\n",
    "                                  how='outer',\n",
    "                                  on=['FL_DATE', 'HOUR', 'OD_PAIR'])\n",
    "\n",
    "df_merged['ARR_DELAY'] = df_merged['ARR_DELAY'].apply(lambda x: x if type(x) == list else [])\n",
    "df_merged['DEP_DELAY'] = df_merged['DEP_DELAY'].apply(lambda x: x if type(x) == list else [])\n",
    "\n",
    "# Add the t-1 hour flights to make it a window of size 2 hours\n",
    "arr_delay_tm1 = df_merged['ARR_DELAY'].shift(od_pairs.shape[0]).apply(lambda x: x if type(x) == list else [])\n",
    "dep_delay_tm1 = df_merged['DEP_DELAY'].shift(od_pairs.shape[0]).apply(lambda x: x if type(x) == list else [])\n",
    "\n",
    "df_merged['ARR_DELAY'] = df_merged['ARR_DELAY'] + arr_delay_tm1\n",
    "df_merged['DEP_DELAY'] = df_merged['DEP_DELAY'] + dep_delay_tm1"
   ]
  },
  {
   "cell_type": "code",
   "execution_count": null,
   "metadata": {},
   "outputs": [],
   "source": [
    "df_merged['MEDIAN_ARR_DELAY'] = df_merged['ARR_DELAY'].apply(np.median)\n",
    "df_merged['MEDIAN_DEP_DELAY'] = df_merged[\"DEP_DELAY\"].apply(np.median)\n",
    "\n",
    "#df_merged['MEAN_ARR_DELAY'] = df_merged['ARR_DELAY'].apply(np.mean)\n",
    "#df_merged['MEAN_DEP_DELAY'] = df_merged[\"DEP_DELAY\"].apply(np.mean)\n",
    "\n",
    "df_merged['FL_DATE'] = pd.to_datetime(df_merged['FL_DATE'])"
   ]
  },
  {
   "cell_type": "code",
   "execution_count": null,
   "metadata": {},
   "outputs": [],
   "source": [
    "df_merged.head()"
   ]
  },
  {
   "cell_type": "markdown",
   "metadata": {},
   "source": [
    "## Median Delay for Airports"
   ]
  },
  {
   "cell_type": "code",
   "execution_count": null,
   "metadata": {},
   "outputs": [],
   "source": [
    "df_origin_delay = pd.DataFrame(df_filtered.groupby(['FL_DATE', 'CRS_DEP_HOUR', 'ORIGIN'])['DEP_DELAY'].agg(list))\n",
    "df_arr_delay = pd.DataFrame(df_filtered.groupby(['FL_DATE', 'CRS_ARR_HOUR', 'DEST'])['ARR_DELAY'].agg(list))\n",
    "\n",
    "df_origin_delay = df_origin_delay.reset_index(drop=False)\n",
    "df_arr_delay = df_arr_delay.reset_index(drop=False)\n",
    "\n",
    "df_origin_delay.columns = ['FL_DATE', 'HOUR', 'NODE', 'DEP_DELAY']\n",
    "df_arr_delay.columns = ['FL_DATE', 'HOUR', 'NODE', 'ARR_DELAY']"
   ]
  },
  {
   "cell_type": "code",
   "execution_count": null,
   "metadata": {},
   "outputs": [],
   "source": [
    "df_merged_node = df_origin_delay.merge(df_arr_delay,\n",
    "                                  how='outer',\n",
    "                                  on=['FL_DATE', 'HOUR', 'NODE'])\n",
    "\n",
    "df_merged_node['ARR_DELAY'] = df_merged['ARR_DELAY'].apply(lambda x: x if type(x) == list else [])\n",
    "df_merged_node['DEP_DELAY'] = df_merged['DEP_DELAY'].apply(lambda x: x if type(x) == list else [])\n",
    "\n",
    "# Add the t-1 hour flights to make it a window of size 2 hours\n",
    "arr_delay_tm1 = df_merged_node['ARR_DELAY'].shift(nodes.shape[0]).apply(lambda x: x if type(x) == list else [])\n",
    "dep_delay_tm1 = df_merged_node['DEP_DELAY'].shift(nodes.shape[0]).apply(lambda x: x if type(x) == list else [])\n",
    "\n",
    "df_merged_node['ARR_DELAY'] = df_merged_node['ARR_DELAY'] + arr_delay_tm1\n",
    "df_merged_node['DEP_DELAY'] = df_merged_node['DEP_DELAY'] + dep_delay_tm1\n",
    "\n",
    "df_merged_node['MEDIAN_NODE_DELAY'] = (df_merged_node[\"DEP_DELAY\"] + df_merged_node[\"ARR_DELAY\"]).apply(np.median)\n",
    "df_merged_node['MEDIAN_NODE_DEP_DELAY'] = df_merged_node['DEP_DELAY'].apply(np.median)\n",
    "df_merged_node['MEDIAN_NODE_ARR_DELAY'] = df_merged_node['ARR_DELAY'].apply(np.median)\n",
    "df_merged_node['FL_DATE'] = pd.to_datetime(df_merged_node['FL_DATE'])"
   ]
  },
  {
   "cell_type": "code",
   "execution_count": null,
   "metadata": {},
   "outputs": [],
   "source": [
    "df_merged_node.head()"
   ]
  },
  {
   "cell_type": "markdown",
   "metadata": {},
   "source": [
    "### Getting complete node df (all hours)"
   ]
  },
  {
   "cell_type": "code",
   "execution_count": null,
   "metadata": {},
   "outputs": [],
   "source": [
    "dates = pd.to_datetime(df_filtered['FL_DATE'].unique()).sort_values()\n",
    "hours = np.sort(df_filtered['CRS_ARR_HOUR'].unique())\n",
    "\n",
    "df = pd.DataFrame()\n",
    "df['FL_DATE'] = np.repeat(dates, hours.shape[0]*nodes.shape[0])\n",
    "df['HOUR'] = np.tile(np.repeat(hours, nodes.shape[0]), dates.shape[0])\n",
    "df['NODE'] = np.tile(nodes, dates.shape[0]*hours.shape[0])"
   ]
  },
  {
   "cell_type": "code",
   "execution_count": null,
   "metadata": {},
   "outputs": [],
   "source": [
    "df_com_nodes = df.merge(df_merged_node, how='left', on=['FL_DATE', 'HOUR', 'NODE'])"
   ]
  },
  {
   "cell_type": "markdown",
   "metadata": {},
   "source": [
    "### Getting final DF"
   ]
  },
  {
   "cell_type": "code",
   "execution_count": null,
   "metadata": {},
   "outputs": [],
   "source": [
    "dates = pd.to_datetime(df_filtered['FL_DATE'].unique()).sort_values()\n",
    "hours = np.sort(df_filtered['CRS_ARR_HOUR'].unique())\n",
    "\n",
    "df = pd.DataFrame()\n",
    "df['FL_DATE'] = np.repeat(dates, hours.shape[0]*od_pairs.shape[0])\n",
    "df['HOUR'] = np.tile(np.repeat(hours, od_pairs.shape[0]), dates.shape[0])\n",
    "df['OD_PAIR'] = np.tile(od_pairs, dates.shape[0]*hours.shape[0])"
   ]
  },
  {
   "cell_type": "code",
   "execution_count": null,
   "metadata": {},
   "outputs": [],
   "source": [
    "df_signal = df.merge(df_merged, how='left', on=['FL_DATE', 'HOUR', 'OD_PAIR'])\n",
    "\n",
    "df_signal['DAY'] = df_signal['FL_DATE'].apply(lambda d: d.day)\n",
    "df_signal['DAY_OF_WEEK'] = df_signal['FL_DATE'].apply(lambda d: d.dayofweek)\n",
    "df_signal['MONTH'] = df_signal['FL_DATE'].apply(lambda d: d.month)\n",
    "df_signal['QUARTER'] = df_signal['FL_DATE'].apply(lambda d: d.quarter)\n",
    "df_signal['YEAR'] = df_signal['FL_DATE'].apply(lambda d: d.year)"
   ]
  },
  {
   "cell_type": "code",
   "execution_count": 33,
   "metadata": {},
   "outputs": [],
   "source": [
    "def get_season(month):\n",
    "    if month in range(9,12):\n",
    "        return 1                # September - November -- Low delays\n",
    "    elif month in range(1, 6):\n",
    "        return 2                # January - May -- Medium delays\n",
    "    elif month in range(6, 9) or month == 12:\n",
    "        return 3                # June - August or December -- High delays\n",
    "    return month\n",
    "\n",
    "df_signal['SEASON'] = df_signal['MONTH'].apply(get_season)\n",
    "df_signal.drop(columns=['MONTH'], inplace=True)"
   ]
  },
  {
   "cell_type": "markdown",
   "metadata": {},
   "source": [
    "# Analyzing the data "
   ]
  },
  {
   "cell_type": "markdown",
   "metadata": {},
   "source": [
    "### Delay per hour"
   ]
  },
  {
   "cell_type": "code",
   "execution_count": 38,
   "metadata": {},
   "outputs": [
    {
     "data": {
      "text/plain": [
       "HOUR\n",
       "0     138833.0\n",
       "1     143195.0\n",
       "2     145555.0\n",
       "3     145527.0\n",
       "4     145642.0\n",
       "5     104173.0\n",
       "6      42371.0\n",
       "7      37644.0\n",
       "8      39395.0\n",
       "9      50502.0\n",
       "10     47789.0\n",
       "11     45901.0\n",
       "12     47909.0\n",
       "13     54053.0\n",
       "14     49257.0\n",
       "15     45550.0\n",
       "16     49975.0\n",
       "17     46117.0\n",
       "18     53707.0\n",
       "19     52231.0\n",
       "20     67519.0\n",
       "21     87463.0\n",
       "22    100213.0\n",
       "23    132542.0\n",
       "Name: MEDIAN_DEP_DELAY, dtype: float64"
      ]
     },
     "execution_count": 38,
     "metadata": {},
     "output_type": "execute_result"
    }
   ],
   "source": [
    "hour_nan = df_signal.set_index('HOUR').isna().sum(level=0)\n",
    "hour_nan['MEDIAN_DEP_DELAY']"
   ]
  },
  {
   "cell_type": "code",
   "execution_count": 43,
   "metadata": {},
   "outputs": [
    {
     "name": "stderr",
     "output_type": "stream",
     "text": [
      "/home/victor/.local/lib/python3.7/site-packages/ipykernel_launcher.py:2: UserWarning: In Matplotlib 3.3 individual lines on a stem plot will be added as a LineCollection instead of individual lines. This significantly improves the performance of a stem plot. To remove this warning and switch to the new behaviour, set the \"use_line_collection\" keyword argument to True.\n",
      "  \n"
     ]
    },
    {
     "data": {
      "text/plain": [
       "Text(0, 0.5, 'Nan Delays')"
      ]
     },
     "execution_count": 43,
     "metadata": {},
     "output_type": "execute_result"
    },
    {
     "data": {
      "image/png": "[encoded data removed]",
      "text/plain": [
       "<Figure size 432x288 with 1 Axes>"
      ]
     },
     "metadata": {
      "needs_background": "light"
     },
     "output_type": "display_data"
    }
   ],
   "source": [
    "plt.figure()\n",
    "plt.bar(range(24), hour_nan['MEDIAN_ARR_DELAY'])\n",
    "plt.xlabel('Hour')\n",
    "plt.ylabel('Nan Delays')"
   ]
  },
  {
   "cell_type": "code",
   "execution_count": 27,
   "metadata": {},
   "outputs": [],
   "source": [
    "v = 0\n",
    "\n",
    "signal = df_signal['MEDIAN_DEP_DELAY'].fillna(v).values.reshape([dates.shape[0], hours.shape[0], od_pairs.shape[0]])\n",
    "signal = np.swapaxes(signal, 1, 2)"
   ]
  },
  {
   "cell_type": "code",
   "execution_count": null,
   "metadata": {
    "scrolled": true
   },
   "outputs": [],
   "source": [
    "# One OD pair, the whole day, 10 days\n",
    "for i in range(10):\n",
    "    plt.figure(figsize=[14, 2])\n",
    "    plt.plot(signal[i, 0])\n",
    "    plt.tight_layout()\n",
    "    plt.show()"
   ]
  },
  {
   "cell_type": "markdown",
   "metadata": {},
   "source": [
    "# 6) Creating the label"
   ]
  },
  {
   "cell_type": "code",
   "execution_count": 31,
   "metadata": {},
   "outputs": [],
   "source": [
    "th = 60\n",
    "h = 2\n",
    "\n",
    "df_signal_shifted = df_signal['MEDIAN_DEP_DELAY'].fillna(v).shift(-h*od_pairs.shape[0]).fillna(-1)\n",
    "labels_regression = df_signal_shifted.values.reshape([dates.shape[0], hours.shape[0], od_pairs.shape[0]])\n",
    "labels_classification = 1*(labels_regression >= h)\n",
    "\n",
    "labels_regression = np.swapaxes(labels_regression, 1, 2)\n",
    "labels_classification = np.swapaxes(labels_classification, 1, 2)\n",
    "\n",
    "df_signal['y_reg'] = df_signal_shifted\n",
    "df_signal['y_clas'] = 1*(df_signal_shifted.values >= th)"
   ]
  },
  {
   "cell_type": "markdown",
   "metadata": {},
   "source": [
    "## 7) Saving data"
   ]
  },
  {
   "cell_type": "code",
   "execution_count": 36,
   "metadata": {},
   "outputs": [
    {
     "data": {
      "text/html": [
       "<div>\n",
       "<style scoped>\n",
       "    .dataframe tbody tr th:only-of-type {\n",
       "        vertical-align: middle;\n",
       "    }\n",
       "\n",
       "    .dataframe tbody tr th {\n",
       "        vertical-align: top;\n",
       "    }\n",
       "\n",
       "    .dataframe thead th {\n",
       "        text-align: right;\n",
       "    }\n",
       "</style>\n",
       "<table border=\"1\" class=\"dataframe\">\n",
       "  <thead>\n",
       "    <tr style=\"text-align: right;\">\n",
       "      <th></th>\n",
       "      <th>FL_DATE</th>\n",
       "      <th>HOUR</th>\n",
       "      <th>OD_PAIR</th>\n",
       "      <th>DEP_DELAY</th>\n",
       "      <th>ARR_DELAY</th>\n",
       "      <th>MEDIAN_ARR_DELAY</th>\n",
       "      <th>MEDIAN_DEP_DELAY</th>\n",
       "      <th>DAY</th>\n",
       "      <th>DAY_OF_WEEK</th>\n",
       "      <th>QUARTER</th>\n",
       "      <th>YEAR</th>\n",
       "      <th>SEASON</th>\n",
       "    </tr>\n",
       "  </thead>\n",
       "  <tbody>\n",
       "    <tr>\n",
       "      <th>0</th>\n",
       "      <td>2018-01-01</td>\n",
       "      <td>0</td>\n",
       "      <td>ANC_SEA</td>\n",
       "      <td>[12.0, -10.0]</td>\n",
       "      <td>[]</td>\n",
       "      <td>NaN</td>\n",
       "      <td>1.0</td>\n",
       "      <td>1</td>\n",
       "      <td>0</td>\n",
       "      <td>1</td>\n",
       "      <td>2018</td>\n",
       "      <td>2</td>\n",
       "    </tr>\n",
       "    <tr>\n",
       "      <th>1</th>\n",
       "      <td>2018-01-01</td>\n",
       "      <td>0</td>\n",
       "      <td>ATL_AUS</td>\n",
       "      <td>NaN</td>\n",
       "      <td>NaN</td>\n",
       "      <td>NaN</td>\n",
       "      <td>NaN</td>\n",
       "      <td>1</td>\n",
       "      <td>0</td>\n",
       "      <td>1</td>\n",
       "      <td>2018</td>\n",
       "      <td>2</td>\n",
       "    </tr>\n",
       "    <tr>\n",
       "      <th>2</th>\n",
       "      <td>2018-01-01</td>\n",
       "      <td>0</td>\n",
       "      <td>ATL_BNA</td>\n",
       "      <td>NaN</td>\n",
       "      <td>NaN</td>\n",
       "      <td>NaN</td>\n",
       "      <td>NaN</td>\n",
       "      <td>1</td>\n",
       "      <td>0</td>\n",
       "      <td>1</td>\n",
       "      <td>2018</td>\n",
       "      <td>2</td>\n",
       "    </tr>\n",
       "    <tr>\n",
       "      <th>3</th>\n",
       "      <td>2018-01-01</td>\n",
       "      <td>0</td>\n",
       "      <td>ATL_BOS</td>\n",
       "      <td>[14.0, -4.0]</td>\n",
       "      <td>[-9.0, -15.0, 86.0]</td>\n",
       "      <td>-9.0</td>\n",
       "      <td>5.0</td>\n",
       "      <td>1</td>\n",
       "      <td>0</td>\n",
       "      <td>1</td>\n",
       "      <td>2018</td>\n",
       "      <td>2</td>\n",
       "    </tr>\n",
       "    <tr>\n",
       "      <th>4</th>\n",
       "      <td>2018-01-01</td>\n",
       "      <td>0</td>\n",
       "      <td>ATL_BWI</td>\n",
       "      <td>NaN</td>\n",
       "      <td>NaN</td>\n",
       "      <td>NaN</td>\n",
       "      <td>NaN</td>\n",
       "      <td>1</td>\n",
       "      <td>0</td>\n",
       "      <td>1</td>\n",
       "      <td>2018</td>\n",
       "      <td>2</td>\n",
       "    </tr>\n",
       "  </tbody>\n",
       "</table>\n",
       "</div>"
      ],
      "text/plain": [
       "     FL_DATE  HOUR  OD_PAIR      DEP_DELAY            ARR_DELAY  \\\n",
       "0 2018-01-01     0  ANC_SEA  [12.0, -10.0]                   []   \n",
       "1 2018-01-01     0  ATL_AUS            NaN                  NaN   \n",
       "2 2018-01-01     0  ATL_BNA            NaN                  NaN   \n",
       "3 2018-01-01     0  ATL_BOS   [14.0, -4.0]  [-9.0, -15.0, 86.0]   \n",
       "4 2018-01-01     0  ATL_BWI            NaN                  NaN   \n",
       "\n",
       "   MEDIAN_ARR_DELAY  MEDIAN_DEP_DELAY  DAY  DAY_OF_WEEK  QUARTER  YEAR  SEASON  \n",
       "0               NaN               1.0    1            0        1  2018       2  \n",
       "1               NaN               NaN    1            0        1  2018       2  \n",
       "2               NaN               NaN    1            0        1  2018       2  \n",
       "3              -9.0               5.0    1            0        1  2018       2  \n",
       "4               NaN               NaN    1            0        1  2018       2  "
      ]
     },
     "execution_count": 36,
     "metadata": {},
     "output_type": "execute_result"
    }
   ],
   "source": [
    "df_signal.head()"
   ]
  },
  {
   "cell_type": "code",
   "execution_count": 35,
   "metadata": {},
   "outputs": [
    {
     "data": {
      "text/plain": [
       "347.19140625"
      ]
     },
     "execution_count": 35,
     "metadata": {},
     "output_type": "execute_result"
    }
   ],
   "source": [
    "df_signal.memory_usage().sum()/(1024*1024)"
   ]
  },
  {
   "cell_type": "code",
   "execution_count": 37,
   "metadata": {},
   "outputs": [
    {
     "data": {
      "text/plain": [
       "(3500544, 12)"
      ]
     },
     "execution_count": 37,
     "metadata": {},
     "output_type": "execute_result"
    }
   ],
   "source": [
    "df_signal.shape"
   ]
  },
  {
   "cell_type": "code",
   "execution_count": 39,
   "metadata": {},
   "outputs": [],
   "source": [
    "df_signal.to_csv(OUT_PATH + 'signal.csv', sep='|', index=False, index_label=False)"
   ]
  },
  {
   "cell_type": "code",
   "execution_count": 40,
   "metadata": {},
   "outputs": [],
   "source": [
    "df_com_nodes.drop(columns=['DEP_DELAY', 'ARR_DELAY']).to_csv(OUT_PATH + 'airport_delays.csv', sep='|', index=False, index_label=False)"
   ]
  },
  {
   "cell_type": "code",
   "execution_count": 41,
   "metadata": {},
   "outputs": [],
   "source": [
    "with open(OUT_PATH + 'most_delayed_pairs.txt', 'w') as f:\n",
    "    f.write('\\n'.join(most_delayed_pairs))"
   ]
  }
 ],
 "metadata": {
  "kernelspec": {
   "display_name": "Python 3",
   "language": "python",
   "name": "python3"
  },
  "language_info": {
   "codemirror_mode": {
    "name": "ipython",
    "version": 3
   },
   "file_extension": ".py",
   "mimetype": "text/x-python",
   "name": "python",
   "nbconvert_exporter": "python",
   "pygments_lexer": "ipython3",
   "version": "3.8.1"
  }
 },
 "nbformat": 4,
 "nbformat_minor": 4
}
